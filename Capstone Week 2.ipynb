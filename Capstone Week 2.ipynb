{
    "cells": [
        {
            "cell_type": "markdown",
            "metadata": {
                "collapsed": true
            },
            "source": "#### 1 - The Seattle Department of Transportation\u2019s annual traffic report illustrates the constant challenge to the city posed by car accidents. In 2017, Seattle police reported 10,959 motor vehicle collisions on city streets. According to the report, in 2017 there were a total of 187 fatal and serious injury collisions on Seattle streets. According to The Seattle Department of Transportation\u2019s besides the number of deaths increased, the number of several injuries has decreased. Car accidents are a big modern society problem and cost millions of dollars to governement and affect peoples lives. This project has the object of build a model that can predict accidents using the data from the city of Seattle.\n\n\n\n"
        },
        {
            "cell_type": "markdown",
            "metadata": {},
            "source": "#### 2 - The selected data has 37 columns and 194,673 rows. In this project we will use the columns \"LIGHTCOND\" and \"ROADCOND\" to predict the severity of an accident (column SEVERITYCODE). The selected algorithm to this project is k-nearest neighbors."
        },
        {
            "cell_type": "code",
            "execution_count": null,
            "metadata": {},
            "outputs": [],
            "source": ""
        }
    ],
    "metadata": {
        "kernelspec": {
            "display_name": "Python 3.6",
            "language": "python",
            "name": "python3"
        },
        "language_info": {
            "codemirror_mode": {
                "name": "ipython",
                "version": 3
            },
            "file_extension": ".py",
            "mimetype": "text/x-python",
            "name": "python",
            "nbconvert_exporter": "python",
            "pygments_lexer": "ipython3",
            "version": "3.6.9"
        }
    },
    "nbformat": 4,
    "nbformat_minor": 1
}